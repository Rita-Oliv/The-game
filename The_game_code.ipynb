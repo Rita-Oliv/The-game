{
 "cells": [
  {
   "cell_type": "code",
   "execution_count": 61,
   "id": "cd615c3d-2b6b-4204-832d-86b2322e026e",
   "metadata": {},
   "outputs": [],
   "source": [
    "#Defining the variables:\n",
    "#1. Places == rooms\n",
    "#2. Passages == dors\n",
    "#3. Characters\n",
    "#4. ¿Objects? == keys\n",
    "\n",
    "old_man = {\n",
    "    \"name\": \"old man\",\n",
    "    \"type\": \"character\",\n",
    "}\n",
    "\n",
    "dock = {\n",
    "    \"name\": \"dock\",\n",
    "    \"type\": \"passage\",\n",
    "}\n",
    "\n",
    "contract = {\n",
    "    \"name\": \"contract to embark ship El Rei\",\n",
    "    \"type\": \"key\",\n",
    "    \"target\": dock,\n",
    "}\n",
    "\n",
    "cask = {\n",
    "    \"name\": \"wine cask\",\n",
    "    \"type\": \"furniture\",\n",
    "}\n",
    "\n",
    "\n",
    "lisboa = {\n",
    "    \"name\": \"Lisboa\",\n",
    "    \"type\": \"room\",\n",
    "}\n",
    "\n",
    "beach = {\n",
    "    \"name\": \"beach\",\n",
    "    \"type\": \"passage\",\n",
    "}\n",
    "\n",
    "supplies = {\n",
    "    \"name\": \"fresh supplies\",\n",
    "    \"type\": \"key\",\n",
    "    \"target\": beach,\n",
    "}\n",
    "\n",
    "chest = {\n",
    "    \"name\": \"rusty chest\",\n",
    "    \"type\": \"furniture\",\n",
    "}\n",
    "\n",
    "supplier = {\n",
    "    \"name\": \"tall odd fellow\",\n",
    "    \"type\": \"character\",\n",
    "}\n",
    "\n",
    "cabo_verde = {\n",
    "    \"name\": \"Cabo Verde\",\n",
    "    \"type\": \"room\",\n",
    "}\n",
    "\n",
    "neptune = {\n",
    "    \"name\": \"King Neptune\",\n",
    "    \"type\": \"character\",\n",
    "}\n",
    "\n",
    "#tribute = {\n",
    "#    \"name\": \"tribute to the king\",\n",
    "#    \"type\": \"key\",\n",
    "#    \"target\": neptune,\n",
    "#}\n",
    "\n",
    "storm = {\n",
    "    \"name\": \"storm\",\n",
    "    \"type\": \"room\",\n",
    "}\n",
    "\n",
    "destination = {\n",
    "    \"name\": \"Brasil\",\n",
    "}\n",
    "\n",
    "\n",
    "gameover = {\n",
    "    \"name\": \"gameover\",\n",
    "    \"type\": \"room\",\n",
    "}\n",
    "\n",
    "all_rooms = [lisboa, cabo_verde, storm, destination]\n",
    "\n",
    "all_doors = [dock, beach, neptune]\n",
    "\n",
    "# define which items/rooms are related\n",
    "\n",
    "object_relations = {\n",
    "    #rooms\n",
    "    \"Lisboa\": [old_man, cask, dock],\n",
    "    \"Cabo Verde\": [beach, supplier, chest],\n",
    "    \"storm\": [neptune],\n",
    "#    \"Brasil\": [beach],\n",
    "    #key keepers\n",
    "    \"old man\": [contract],\n",
    "    \"tall odd fellow\": [supplies],\n",
    "#    \"rusty chest\": [tribute],\n",
    "    #passages\n",
    "    \"dock\": [lisboa, cabo_verde],\n",
    "    \"beach\": [cabo_verde, storm],\n",
    "#    \"King Neptune\": [storm, destination]\n",
    "}\n",
    "\n",
    "# define game state. Do not directly change this dict. \n",
    "# Instead, when a new game starts, make a copy of this\n",
    "# dict and use the copy to store gameplay state. This \n",
    "# way you can replay the game multiple times.\n",
    "\n",
    "INIT_GAME_STATE = {\n",
    "    \"current_room\": lisboa,\n",
    "    \"keys_collected\": [],\n",
    "    \"target_room\": destination\n",
    "}"
   ]
  },
  {
   "cell_type": "code",
   "execution_count": 62,
   "id": "c03e7a77-9047-4cac-99d4-537b45da746d",
   "metadata": {},
   "outputs": [],
   "source": [
    "#libraries\n",
    "\n",
    "from PIL import Image\n",
    "\n",
    "try:\n",
    "    import winsound\n",
    "except ModuleNotFoundError:\n",
    "    pass\n",
    "\n",
    "from sys import exit\n",
    "import time"
   ]
  },
  {
   "cell_type": "code",
   "execution_count": null,
   "id": "d9e35f6b-4988-4c0c-a4ed-9ea526d8c68b",
   "metadata": {},
   "outputs": [],
   "source": []
  },
  {
   "cell_type": "code",
   "execution_count": 63,
   "id": "e21eea3c-1342-49ac-a014-df22aa6d17e6",
   "metadata": {},
   "outputs": [
    {
     "ename": "SyntaxError",
     "evalue": "'break' outside loop (4079389453.py, line 29)",
     "output_type": "error",
     "traceback": [
      "\u001b[0;36m  File \u001b[0;32m\"/var/folders/zl/64_yxwls4ld4zjxrnk6t2yth0000gn/T/ipykernel_49814/4079389453.py\"\u001b[0;36m, line \u001b[0;32m29\u001b[0m\n\u001b[0;31m    break\u001b[0m\n\u001b[0m    ^\u001b[0m\n\u001b[0;31mSyntaxError\u001b[0m\u001b[0;31m:\u001b[0m 'break' outside loop\n"
     ]
    }
   ],
   "source": [
    "def linebreak():\n",
    "    \"\"\"\n",
    "    Print a line break\n",
    "    \"\"\"\n",
    "    print(\"\\n\\n\")\n",
    "\n",
    "def start_game():\n",
    "    \"\"\"\n",
    "    Start the game\n",
    "    \"\"\"\n",
    "                                                                                                                #CHANGES\n",
    "    myImage = Image.open(\"/Users/ritaoliveira/Documents/curso_Ironhack/EXERCISES/The-game/departure.jpg\")\n",
    "    myImage.show()\n",
    "#    winsound.PlaySound('pirates_of_the_caribbean_theme.mp3',winsound.SND_ASYNC)\n",
    "    print(\"You wake up on top of what it looks like a pile of bags. You remember something about the night before, you were drinking with friends, they all called you crazy, but hugged you as they said their goodbyes. Why would they say goodbye to you? You look around and see small boats departing towards a big fleet… THUNDERS! You’re supposed to be in that fleet! You are supposed to go to India but now your late. Hurry up and get yourself on one of those boats!\")\n",
    "    play_room(game_state[\"current_room\"])\n",
    "\n",
    "def play_room(room):\n",
    "    \"\"\"\n",
    "    Play a room. First check if the room being played is the target room.\n",
    "    If it is, the game will end with success. Otherwise, let player either \n",
    "    explore (list all items in this room) or examine an item found here.\n",
    "    \"\"\"\n",
    "    game_state[\"current_room\"] = room\n",
    "    if(game_state[\"current_room\"] == game_state[\"target_room\"]):\n",
    "        print(\"Congrats! It's not India but you made it to Brasil!\")\n",
    "        myImage2 = Image.open(\"../The-game/chegada_ao_brasil.jpg\")\n",
    "        myImage2.show()\n",
    "    \n",
    "    else:\n",
    "        print(\"You are now in \" + room[\"name\"])\n",
    "        \n",
    "        intended_action = input(\"What would you like to do? Type 'explore' or 'examine'?\").strip()\n",
    "        if intended_action == \"explore\":\n",
    "            explore_room(room)\n",
    "            play_room(room)\n",
    "        elif intended_action == \"examine\":\n",
    "            examine_item(input(\"What would you like to examine?\").strip())\n",
    "        else:\n",
    "            print(\"Not sure what you mean. Type 'explore' or 'examine'.\")\n",
    "            play_room(room)\n",
    "        linebreak()\n",
    "\n",
    "def explore_room(room):\n",
    "    \"\"\"\n",
    "    Explore a room. List all items belonging to this room.\n",
    "    \"\"\"\n",
    "    items = [i[\"name\"] for i in object_relations[room[\"name\"]]]\n",
    "    print(\"You explore the place. This is \" + room[\"name\"] + \". You find \" + \", \".join(items)) \n",
    "\n",
    "def get_next_room_of_door(passage, current_room):\n",
    "    \"\"\"\n",
    "    From object_relations, find the two rooms connected to the given passage.\n",
    "    Return the room that is not the current_room.\n",
    "    \"\"\"\n",
    "    connected_rooms = object_relations[passage[\"name\"]]                                \n",
    "    for room in connected_rooms:\n",
    "        if(not current_room == room):         \n",
    "            return room\n",
    "\n",
    "def examine_item(item_name):\n",
    "    \"\"\"\n",
    "    Examine an item which can be a passage, a character or furniture.\n",
    "    First make sure the intended item belongs to the current room.\n",
    "    Then check if the item is a passage. Tell player if key hasn't been \n",
    "    collected yet. Otherwise ask player if they want to go to the next\n",
    "    room. If the item is not a door, then check if it contains keys.\n",
    "    Collect the key if found and update the game state. At the end,\n",
    "    play either the current or the next room depending on the game state\n",
    "    to keep playing.\n",
    "    \"\"\"\n",
    "    current_room = game_state[\"current_room\"]\n",
    "    next_room = \"\"\n",
    "    output = None\n",
    "    \n",
    "    for item in object_relations[current_room[\"name\"]]:\n",
    "        if(item[\"name\"] == item_name):\n",
    "            output = \"You examine \" + item_name + \". \"\n",
    "            if(item[\"type\"] == \"passage\"):\n",
    "                have_key = False\n",
    "                for key in game_state[\"keys_collected\"]:\n",
    "                    if(key[\"target\"] == item):\n",
    "                        targ_key = key[\"name\"]\n",
    "                        have_key = True\n",
    "                if(have_key):\n",
    "                    \n",
    "                    output += \"You unlock it with a \"+ targ_key + \".\"                        #Changed here\n",
    "                    next_room = get_next_room_of_door(item, current_room)\n",
    "                else:\n",
    "                    output += \"It is locked but you don't have yet the key.\"\n",
    "            else:\n",
    "                if(item[\"name\"] in object_relations and len(object_relations[item[\"name\"]])>0):\n",
    "                    item_found = object_relations[item[\"name\"]].pop()\n",
    "                    game_state[\"keys_collected\"].append(item_found)\n",
    "                    output += \"You find \" + item_found[\"name\"] + \".\"\n",
    "                else:\n",
    "                    output += \"There isn't anything interesting about it.\"\n",
    "            print(output)\n",
    "            break\n",
    "\n",
    "    if(output is None):\n",
    "        print(\"The item you requested is not found in the current room.\")\n",
    "    \n",
    "    if(next_room and input(\"Do you want to go to the next room? Enter 'yes' or 'no'\").strip() == 'yes'):\n",
    "\n",
    "        statement_of_room(next_room)                                                      #CHANGES\n",
    "        play_room(next_room)\n",
    "    else:\n",
    "        play_room(current_room)\n",
    "                                                                                           #CHANGES\n",
    "def statement_of_room(next_room):\n",
    "    if next_room[\"name\"] == \"Cabo Verde\":\n",
    "        print(\"After thirteen days of bad sea, rain and cold wind on the ship El Rei, you are able to step, for the first time in your life, a land that is not Portugal. You are in São Nicolau, Cape Verde and you’ve been given the task to find the a supplier that will provide you fresh provisions for the remaining trip. Don’t take to much time or you will be punished with cleaning the deck for a month again! \")\n",
    "        myImage1 = Image.open(\"../The-game/Planta_CV.jpg\")\n",
    "        myImage1.show()\n",
    "    elif next_room[\"name\"] == \"storm\":\n",
    "        print(\"A big storm hits from nowhere, the crew runs to their designed roles, the timonner struggles to keep a safe route. Suddenly a rope whips a blow in the air, the main sail just falls while it was retracted, the crew hope and morale just cracks as they watch powerless their doom. Everyone knows the main mast will not resist the wind... You hear someone screaming braking through the roaming storm, and more screams while a giant wave form at the starboard of the ship. You try your best to ignore, imaging your mates being throwed by the gusty winds just to been swallowed by the raging waves... When a mate pulls your shoulder and screams: ‘Neptune! King Neptune is here!’\")\n",
    "        print(\"\\n\")\n",
    "        myImage2 = Image.open(\"../The-game/storm.jpg\")\n",
    "        myImage2.show()\n",
    "        print(\"King Neptune: ‘Who is fullish enough to enter my waters without permission? I demand a sacrifice! If acceptable then I shall grant you steady winds and a safe sail, if not I will feed your bodies to my children and imprison your souls to my trident for eternity!.\")\n",
    "#        time(10)\n",
    "        print(\"Neptune: 'I demmand a sacrifice!'\")\n",
    "#        time(3)\n",
    "        print(\"You only have: a 'wedding ring', 'rosary', 'goat' and 'rum'\")\n",
    "        item_choice = input(\"Choose one to give to King Neptune as sacrifice: \").strip()\n",
    "        while item_choice not in ['wedding ring', 'rosary', 'goat', 'rum']:\n",
    "            item_choice = input(\"Not sure what you mean. Type 'wedding ring', 'rosary', 'goat' or 'rum' to sacrifice.\").strip()\n",
    "        if item_choice in ['rum', 'goat']:\n",
    "            room  = destination\n",
    "            play_room(room)     \n",
    "        elif item_choice in [\"wedding ring\", \"rosary\"]:\n",
    "            gameover()\n",
    "        else:\n",
    "            pass  \n",
    "    else:\n",
    "        pass\n",
    "    \n",
    "def gameover():\n",
    "    print(\"Your sacrife was not accepted, you and your crew are claimed by the sea.\")\n",
    "#    time(5)\n",
    "    print(\"*** Game Over ***\")\n",
    "#    time(3)\n",
    "#    exit()"
   ]
  },
  {
   "cell_type": "code",
   "execution_count": 60,
   "id": "a2b21aeb-9878-4295-8526-6ab76b0815e8",
   "metadata": {},
   "outputs": [
    {
     "name": "stdout",
     "output_type": "stream",
     "text": [
      "You wake up on top of what it looks like a pile of bags. You remember something about the night before, you were drinking with friends, they all called you crazy, but hugged you as they said their goodbyes. Why would they say goodbye to you? You look around and see small boats departing towards a big fleet… THUNDERS! You’re supposed to be in that fleet! You are supposed to go to India but now your late. Hurry up and get yourself on one of those boats!\n",
      "You are now in Lisboa\n"
     ]
    },
    {
     "name": "stdin",
     "output_type": "stream",
     "text": [
      "What would you like to do? Type 'explore' or 'examine'? examine\n",
      "What would you like to examine? old man\n"
     ]
    },
    {
     "name": "stdout",
     "output_type": "stream",
     "text": [
      "You examine old man. You find contract to embark ship El Rei.\n",
      "You are now in Lisboa\n"
     ]
    },
    {
     "name": "stdin",
     "output_type": "stream",
     "text": [
      "What would you like to do? Type 'explore' or 'examine'? examine\n",
      "What would you like to examine? dock\n"
     ]
    },
    {
     "name": "stdout",
     "output_type": "stream",
     "text": [
      "You examine dock. You unlock it with a contract to embark ship El Rei.\n"
     ]
    },
    {
     "name": "stdin",
     "output_type": "stream",
     "text": [
      "Do you want to go to the next room? Enter 'yes' or 'no' yes\n"
     ]
    },
    {
     "name": "stdout",
     "output_type": "stream",
     "text": [
      "After thirteen days of bad sea, rain and cold wind on the ship El Rei, you are able to step, for the first time in your life, a land that is not Portugal. You are in São Nicolau, Cape Verde and you’ve been given the task to find the a supplier that will provide you fresh provisions for the remaining trip. Don’t take to much time or you will be punished with cleaning the deck for a month again! \n",
      "You are now in Cabo Verde\n"
     ]
    },
    {
     "name": "stdin",
     "output_type": "stream",
     "text": [
      "What would you like to do? Type 'explore' or 'examine'? examine\n",
      "What would you like to examine? tall odd fellow\n"
     ]
    },
    {
     "name": "stdout",
     "output_type": "stream",
     "text": [
      "You examine tall odd fellow. You find fresh supplies.\n",
      "You are now in Cabo Verde\n"
     ]
    },
    {
     "name": "stdin",
     "output_type": "stream",
     "text": [
      "What would you like to do? Type 'explore' or 'examine'? examine\n",
      "What would you like to examine? beach\n"
     ]
    },
    {
     "name": "stdout",
     "output_type": "stream",
     "text": [
      "You examine beach. You unlock it with a fresh supplies.\n"
     ]
    },
    {
     "name": "stdin",
     "output_type": "stream",
     "text": [
      "Do you want to go to the next room? Enter 'yes' or 'no' yes\n"
     ]
    },
    {
     "name": "stdout",
     "output_type": "stream",
     "text": [
      "A big storm hits from nowhere, the crew runs to their designed roles, the timonner struggles to keep a safe route. Suddenly a rope whips a blow in the air, the main sail just falls while it was retracted, the crew hope and morale just cracks as they watch powerless their doom. Everyone knows the main mast will not resist the wind... You hear someone screaming braking through the roaming storm, and more screams while a giant wave form at the starboard of the ship. You try your best to ignore, imaging your mates being throwed by the gusty winds just to been swallowed by the raging waves... When a mate pulls your shoulder and screams: ‘Neptune! King Neptune is here!’\n",
      "\n",
      "\n",
      "King Neptune: ‘Who is fullish enough to enter my waters without permission? I demand a sacrifice! If acceptable then I shall grant you steady winds and a safe sail, if not I will feed your bodies to my children and imprison your souls to my trident for eternity!.\n",
      "Neptune: 'I demmand a sacrifice!'\n",
      "You only have: a 'wedding ring', 'rosary', 'goat' and 'rum'\n"
     ]
    },
    {
     "name": "stdin",
     "output_type": "stream",
     "text": [
      "Choose one to give to King Neptune as sacrifice:  rum\n"
     ]
    },
    {
     "name": "stdout",
     "output_type": "stream",
     "text": [
      "Congrats! It's not India but you made it to Brasil!\n",
      "You are now in storm\n"
     ]
    },
    {
     "ename": "KeyboardInterrupt",
     "evalue": "Interrupted by user",
     "output_type": "error",
     "traceback": [
      "\u001b[0;31m---------------------------------------------------------------------------\u001b[0m",
      "\u001b[0;31mKeyboardInterrupt\u001b[0m                         Traceback (most recent call last)",
      "\u001b[0;32m/var/folders/zl/64_yxwls4ld4zjxrnk6t2yth0000gn/T/ipykernel_49814/1920013307.py\u001b[0m in \u001b[0;36m<module>\u001b[0;34m\u001b[0m\n\u001b[1;32m      1\u001b[0m \u001b[0mgame_state\u001b[0m \u001b[0;34m=\u001b[0m \u001b[0mINIT_GAME_STATE\u001b[0m\u001b[0;34m.\u001b[0m\u001b[0mcopy\u001b[0m\u001b[0;34m(\u001b[0m\u001b[0;34m)\u001b[0m\u001b[0;34m\u001b[0m\u001b[0;34m\u001b[0m\u001b[0m\n\u001b[1;32m      2\u001b[0m \u001b[0;34m\u001b[0m\u001b[0m\n\u001b[0;32m----> 3\u001b[0;31m \u001b[0mstart_game\u001b[0m\u001b[0;34m(\u001b[0m\u001b[0;34m)\u001b[0m\u001b[0;34m\u001b[0m\u001b[0;34m\u001b[0m\u001b[0m\n\u001b[0m",
      "\u001b[0;32m/var/folders/zl/64_yxwls4ld4zjxrnk6t2yth0000gn/T/ipykernel_49814/2074409930.py\u001b[0m in \u001b[0;36mstart_game\u001b[0;34m()\u001b[0m\n\u001b[1;32m     14\u001b[0m \u001b[0;31m#    winsound.PlaySound('pirates_of_the_caribbean_theme.mp3',winsound.SND_ASYNC)\u001b[0m\u001b[0;34m\u001b[0m\u001b[0;34m\u001b[0m\u001b[0;34m\u001b[0m\u001b[0m\n\u001b[1;32m     15\u001b[0m     \u001b[0mprint\u001b[0m\u001b[0;34m(\u001b[0m\u001b[0;34m\"You wake up on top of what it looks like a pile of bags. You remember something about the night before, you were drinking with friends, they all called you crazy, but hugged you as they said their goodbyes. Why would they say goodbye to you? You look around and see small boats departing towards a big fleet… THUNDERS! You’re supposed to be in that fleet! You are supposed to go to India but now your late. Hurry up and get yourself on one of those boats!\"\u001b[0m\u001b[0;34m)\u001b[0m\u001b[0;34m\u001b[0m\u001b[0;34m\u001b[0m\u001b[0m\n\u001b[0;32m---> 16\u001b[0;31m     \u001b[0mplay_room\u001b[0m\u001b[0;34m(\u001b[0m\u001b[0mgame_state\u001b[0m\u001b[0;34m[\u001b[0m\u001b[0;34m\"current_room\"\u001b[0m\u001b[0;34m]\u001b[0m\u001b[0;34m)\u001b[0m\u001b[0;34m\u001b[0m\u001b[0;34m\u001b[0m\u001b[0m\n\u001b[0m\u001b[1;32m     17\u001b[0m \u001b[0;34m\u001b[0m\u001b[0m\n\u001b[1;32m     18\u001b[0m \u001b[0;32mdef\u001b[0m \u001b[0mplay_room\u001b[0m\u001b[0;34m(\u001b[0m\u001b[0mroom\u001b[0m\u001b[0;34m)\u001b[0m\u001b[0;34m:\u001b[0m\u001b[0;34m\u001b[0m\u001b[0;34m\u001b[0m\u001b[0m\n",
      "\u001b[0;32m/var/folders/zl/64_yxwls4ld4zjxrnk6t2yth0000gn/T/ipykernel_49814/2074409930.py\u001b[0m in \u001b[0;36mplay_room\u001b[0;34m(room)\u001b[0m\n\u001b[1;32m     35\u001b[0m             \u001b[0mplay_room\u001b[0m\u001b[0;34m(\u001b[0m\u001b[0mroom\u001b[0m\u001b[0;34m)\u001b[0m\u001b[0;34m\u001b[0m\u001b[0;34m\u001b[0m\u001b[0m\n\u001b[1;32m     36\u001b[0m         \u001b[0;32melif\u001b[0m \u001b[0mintended_action\u001b[0m \u001b[0;34m==\u001b[0m \u001b[0;34m\"examine\"\u001b[0m\u001b[0;34m:\u001b[0m\u001b[0;34m\u001b[0m\u001b[0;34m\u001b[0m\u001b[0m\n\u001b[0;32m---> 37\u001b[0;31m             \u001b[0mexamine_item\u001b[0m\u001b[0;34m(\u001b[0m\u001b[0minput\u001b[0m\u001b[0;34m(\u001b[0m\u001b[0;34m\"What would you like to examine?\"\u001b[0m\u001b[0;34m)\u001b[0m\u001b[0;34m.\u001b[0m\u001b[0mstrip\u001b[0m\u001b[0;34m(\u001b[0m\u001b[0;34m)\u001b[0m\u001b[0;34m)\u001b[0m\u001b[0;34m\u001b[0m\u001b[0;34m\u001b[0m\u001b[0m\n\u001b[0m\u001b[1;32m     38\u001b[0m         \u001b[0;32melse\u001b[0m\u001b[0;34m:\u001b[0m\u001b[0;34m\u001b[0m\u001b[0;34m\u001b[0m\u001b[0m\n\u001b[1;32m     39\u001b[0m             \u001b[0mprint\u001b[0m\u001b[0;34m(\u001b[0m\u001b[0;34m\"Not sure what you mean. Type 'explore' or 'examine'.\"\u001b[0m\u001b[0;34m)\u001b[0m\u001b[0;34m\u001b[0m\u001b[0;34m\u001b[0m\u001b[0m\n",
      "\u001b[0;32m/var/folders/zl/64_yxwls4ld4zjxrnk6t2yth0000gn/T/ipykernel_49814/2074409930.py\u001b[0m in \u001b[0;36mexamine_item\u001b[0;34m(item_name)\u001b[0m\n\u001b[1;32m    106\u001b[0m         \u001b[0mplay_room\u001b[0m\u001b[0;34m(\u001b[0m\u001b[0mnext_room\u001b[0m\u001b[0;34m)\u001b[0m\u001b[0;34m\u001b[0m\u001b[0;34m\u001b[0m\u001b[0m\n\u001b[1;32m    107\u001b[0m     \u001b[0;32melse\u001b[0m\u001b[0;34m:\u001b[0m\u001b[0;34m\u001b[0m\u001b[0;34m\u001b[0m\u001b[0m\n\u001b[0;32m--> 108\u001b[0;31m         \u001b[0mplay_room\u001b[0m\u001b[0;34m(\u001b[0m\u001b[0mcurrent_room\u001b[0m\u001b[0;34m)\u001b[0m\u001b[0;34m\u001b[0m\u001b[0;34m\u001b[0m\u001b[0m\n\u001b[0m\u001b[1;32m    109\u001b[0m                                                                                            \u001b[0;31m#CHANGES\u001b[0m\u001b[0;34m\u001b[0m\u001b[0;34m\u001b[0m\u001b[0;34m\u001b[0m\u001b[0m\n\u001b[1;32m    110\u001b[0m \u001b[0;32mdef\u001b[0m \u001b[0mstatement_of_room\u001b[0m\u001b[0;34m(\u001b[0m\u001b[0mnext_room\u001b[0m\u001b[0;34m)\u001b[0m\u001b[0;34m:\u001b[0m\u001b[0;34m\u001b[0m\u001b[0;34m\u001b[0m\u001b[0m\n",
      "\u001b[0;32m/var/folders/zl/64_yxwls4ld4zjxrnk6t2yth0000gn/T/ipykernel_49814/2074409930.py\u001b[0m in \u001b[0;36mplay_room\u001b[0;34m(room)\u001b[0m\n\u001b[1;32m     35\u001b[0m             \u001b[0mplay_room\u001b[0m\u001b[0;34m(\u001b[0m\u001b[0mroom\u001b[0m\u001b[0;34m)\u001b[0m\u001b[0;34m\u001b[0m\u001b[0;34m\u001b[0m\u001b[0m\n\u001b[1;32m     36\u001b[0m         \u001b[0;32melif\u001b[0m \u001b[0mintended_action\u001b[0m \u001b[0;34m==\u001b[0m \u001b[0;34m\"examine\"\u001b[0m\u001b[0;34m:\u001b[0m\u001b[0;34m\u001b[0m\u001b[0;34m\u001b[0m\u001b[0m\n\u001b[0;32m---> 37\u001b[0;31m             \u001b[0mexamine_item\u001b[0m\u001b[0;34m(\u001b[0m\u001b[0minput\u001b[0m\u001b[0;34m(\u001b[0m\u001b[0;34m\"What would you like to examine?\"\u001b[0m\u001b[0;34m)\u001b[0m\u001b[0;34m.\u001b[0m\u001b[0mstrip\u001b[0m\u001b[0;34m(\u001b[0m\u001b[0;34m)\u001b[0m\u001b[0;34m)\u001b[0m\u001b[0;34m\u001b[0m\u001b[0;34m\u001b[0m\u001b[0m\n\u001b[0m\u001b[1;32m     38\u001b[0m         \u001b[0;32melse\u001b[0m\u001b[0;34m:\u001b[0m\u001b[0;34m\u001b[0m\u001b[0;34m\u001b[0m\u001b[0m\n\u001b[1;32m     39\u001b[0m             \u001b[0mprint\u001b[0m\u001b[0;34m(\u001b[0m\u001b[0;34m\"Not sure what you mean. Type 'explore' or 'examine'.\"\u001b[0m\u001b[0;34m)\u001b[0m\u001b[0;34m\u001b[0m\u001b[0;34m\u001b[0m\u001b[0m\n",
      "\u001b[0;32m/var/folders/zl/64_yxwls4ld4zjxrnk6t2yth0000gn/T/ipykernel_49814/2074409930.py\u001b[0m in \u001b[0;36mexamine_item\u001b[0;34m(item_name)\u001b[0m\n\u001b[1;32m    104\u001b[0m \u001b[0;34m\u001b[0m\u001b[0m\n\u001b[1;32m    105\u001b[0m         \u001b[0mstatement_of_room\u001b[0m\u001b[0;34m(\u001b[0m\u001b[0mnext_room\u001b[0m\u001b[0;34m)\u001b[0m                                                      \u001b[0;31m#CHANGES\u001b[0m\u001b[0;34m\u001b[0m\u001b[0;34m\u001b[0m\u001b[0m\n\u001b[0;32m--> 106\u001b[0;31m         \u001b[0mplay_room\u001b[0m\u001b[0;34m(\u001b[0m\u001b[0mnext_room\u001b[0m\u001b[0;34m)\u001b[0m\u001b[0;34m\u001b[0m\u001b[0;34m\u001b[0m\u001b[0m\n\u001b[0m\u001b[1;32m    107\u001b[0m     \u001b[0;32melse\u001b[0m\u001b[0;34m:\u001b[0m\u001b[0;34m\u001b[0m\u001b[0;34m\u001b[0m\u001b[0m\n\u001b[1;32m    108\u001b[0m         \u001b[0mplay_room\u001b[0m\u001b[0;34m(\u001b[0m\u001b[0mcurrent_room\u001b[0m\u001b[0;34m)\u001b[0m\u001b[0;34m\u001b[0m\u001b[0;34m\u001b[0m\u001b[0m\n",
      "\u001b[0;32m/var/folders/zl/64_yxwls4ld4zjxrnk6t2yth0000gn/T/ipykernel_49814/2074409930.py\u001b[0m in \u001b[0;36mplay_room\u001b[0;34m(room)\u001b[0m\n\u001b[1;32m     35\u001b[0m             \u001b[0mplay_room\u001b[0m\u001b[0;34m(\u001b[0m\u001b[0mroom\u001b[0m\u001b[0;34m)\u001b[0m\u001b[0;34m\u001b[0m\u001b[0;34m\u001b[0m\u001b[0m\n\u001b[1;32m     36\u001b[0m         \u001b[0;32melif\u001b[0m \u001b[0mintended_action\u001b[0m \u001b[0;34m==\u001b[0m \u001b[0;34m\"examine\"\u001b[0m\u001b[0;34m:\u001b[0m\u001b[0;34m\u001b[0m\u001b[0;34m\u001b[0m\u001b[0m\n\u001b[0;32m---> 37\u001b[0;31m             \u001b[0mexamine_item\u001b[0m\u001b[0;34m(\u001b[0m\u001b[0minput\u001b[0m\u001b[0;34m(\u001b[0m\u001b[0;34m\"What would you like to examine?\"\u001b[0m\u001b[0;34m)\u001b[0m\u001b[0;34m.\u001b[0m\u001b[0mstrip\u001b[0m\u001b[0;34m(\u001b[0m\u001b[0;34m)\u001b[0m\u001b[0;34m)\u001b[0m\u001b[0;34m\u001b[0m\u001b[0;34m\u001b[0m\u001b[0m\n\u001b[0m\u001b[1;32m     38\u001b[0m         \u001b[0;32melse\u001b[0m\u001b[0;34m:\u001b[0m\u001b[0;34m\u001b[0m\u001b[0;34m\u001b[0m\u001b[0m\n\u001b[1;32m     39\u001b[0m             \u001b[0mprint\u001b[0m\u001b[0;34m(\u001b[0m\u001b[0;34m\"Not sure what you mean. Type 'explore' or 'examine'.\"\u001b[0m\u001b[0;34m)\u001b[0m\u001b[0;34m\u001b[0m\u001b[0;34m\u001b[0m\u001b[0m\n",
      "\u001b[0;32m/var/folders/zl/64_yxwls4ld4zjxrnk6t2yth0000gn/T/ipykernel_49814/2074409930.py\u001b[0m in \u001b[0;36mexamine_item\u001b[0;34m(item_name)\u001b[0m\n\u001b[1;32m    106\u001b[0m         \u001b[0mplay_room\u001b[0m\u001b[0;34m(\u001b[0m\u001b[0mnext_room\u001b[0m\u001b[0;34m)\u001b[0m\u001b[0;34m\u001b[0m\u001b[0;34m\u001b[0m\u001b[0m\n\u001b[1;32m    107\u001b[0m     \u001b[0;32melse\u001b[0m\u001b[0;34m:\u001b[0m\u001b[0;34m\u001b[0m\u001b[0;34m\u001b[0m\u001b[0m\n\u001b[0;32m--> 108\u001b[0;31m         \u001b[0mplay_room\u001b[0m\u001b[0;34m(\u001b[0m\u001b[0mcurrent_room\u001b[0m\u001b[0;34m)\u001b[0m\u001b[0;34m\u001b[0m\u001b[0;34m\u001b[0m\u001b[0m\n\u001b[0m\u001b[1;32m    109\u001b[0m                                                                                            \u001b[0;31m#CHANGES\u001b[0m\u001b[0;34m\u001b[0m\u001b[0;34m\u001b[0m\u001b[0;34m\u001b[0m\u001b[0m\n\u001b[1;32m    110\u001b[0m \u001b[0;32mdef\u001b[0m \u001b[0mstatement_of_room\u001b[0m\u001b[0;34m(\u001b[0m\u001b[0mnext_room\u001b[0m\u001b[0;34m)\u001b[0m\u001b[0;34m:\u001b[0m\u001b[0;34m\u001b[0m\u001b[0;34m\u001b[0m\u001b[0m\n",
      "\u001b[0;32m/var/folders/zl/64_yxwls4ld4zjxrnk6t2yth0000gn/T/ipykernel_49814/2074409930.py\u001b[0m in \u001b[0;36mplay_room\u001b[0;34m(room)\u001b[0m\n\u001b[1;32m     35\u001b[0m             \u001b[0mplay_room\u001b[0m\u001b[0;34m(\u001b[0m\u001b[0mroom\u001b[0m\u001b[0;34m)\u001b[0m\u001b[0;34m\u001b[0m\u001b[0;34m\u001b[0m\u001b[0m\n\u001b[1;32m     36\u001b[0m         \u001b[0;32melif\u001b[0m \u001b[0mintended_action\u001b[0m \u001b[0;34m==\u001b[0m \u001b[0;34m\"examine\"\u001b[0m\u001b[0;34m:\u001b[0m\u001b[0;34m\u001b[0m\u001b[0;34m\u001b[0m\u001b[0m\n\u001b[0;32m---> 37\u001b[0;31m             \u001b[0mexamine_item\u001b[0m\u001b[0;34m(\u001b[0m\u001b[0minput\u001b[0m\u001b[0;34m(\u001b[0m\u001b[0;34m\"What would you like to examine?\"\u001b[0m\u001b[0;34m)\u001b[0m\u001b[0;34m.\u001b[0m\u001b[0mstrip\u001b[0m\u001b[0;34m(\u001b[0m\u001b[0;34m)\u001b[0m\u001b[0;34m)\u001b[0m\u001b[0;34m\u001b[0m\u001b[0;34m\u001b[0m\u001b[0m\n\u001b[0m\u001b[1;32m     38\u001b[0m         \u001b[0;32melse\u001b[0m\u001b[0;34m:\u001b[0m\u001b[0;34m\u001b[0m\u001b[0;34m\u001b[0m\u001b[0m\n\u001b[1;32m     39\u001b[0m             \u001b[0mprint\u001b[0m\u001b[0;34m(\u001b[0m\u001b[0;34m\"Not sure what you mean. Type 'explore' or 'examine'.\"\u001b[0m\u001b[0;34m)\u001b[0m\u001b[0;34m\u001b[0m\u001b[0;34m\u001b[0m\u001b[0m\n",
      "\u001b[0;32m/var/folders/zl/64_yxwls4ld4zjxrnk6t2yth0000gn/T/ipykernel_49814/2074409930.py\u001b[0m in \u001b[0;36mexamine_item\u001b[0;34m(item_name)\u001b[0m\n\u001b[1;32m    104\u001b[0m \u001b[0;34m\u001b[0m\u001b[0m\n\u001b[1;32m    105\u001b[0m         \u001b[0mstatement_of_room\u001b[0m\u001b[0;34m(\u001b[0m\u001b[0mnext_room\u001b[0m\u001b[0;34m)\u001b[0m                                                      \u001b[0;31m#CHANGES\u001b[0m\u001b[0;34m\u001b[0m\u001b[0;34m\u001b[0m\u001b[0m\n\u001b[0;32m--> 106\u001b[0;31m         \u001b[0mplay_room\u001b[0m\u001b[0;34m(\u001b[0m\u001b[0mnext_room\u001b[0m\u001b[0;34m)\u001b[0m\u001b[0;34m\u001b[0m\u001b[0;34m\u001b[0m\u001b[0m\n\u001b[0m\u001b[1;32m    107\u001b[0m     \u001b[0;32melse\u001b[0m\u001b[0;34m:\u001b[0m\u001b[0;34m\u001b[0m\u001b[0;34m\u001b[0m\u001b[0m\n\u001b[1;32m    108\u001b[0m         \u001b[0mplay_room\u001b[0m\u001b[0;34m(\u001b[0m\u001b[0mcurrent_room\u001b[0m\u001b[0;34m)\u001b[0m\u001b[0;34m\u001b[0m\u001b[0;34m\u001b[0m\u001b[0m\n",
      "\u001b[0;32m/var/folders/zl/64_yxwls4ld4zjxrnk6t2yth0000gn/T/ipykernel_49814/2074409930.py\u001b[0m in \u001b[0;36mplay_room\u001b[0;34m(room)\u001b[0m\n\u001b[1;32m     30\u001b[0m         \u001b[0mprint\u001b[0m\u001b[0;34m(\u001b[0m\u001b[0;34m\"You are now in \"\u001b[0m \u001b[0;34m+\u001b[0m \u001b[0mroom\u001b[0m\u001b[0;34m[\u001b[0m\u001b[0;34m\"name\"\u001b[0m\u001b[0;34m]\u001b[0m\u001b[0;34m)\u001b[0m\u001b[0;34m\u001b[0m\u001b[0;34m\u001b[0m\u001b[0m\n\u001b[1;32m     31\u001b[0m \u001b[0;34m\u001b[0m\u001b[0m\n\u001b[0;32m---> 32\u001b[0;31m         \u001b[0mintended_action\u001b[0m \u001b[0;34m=\u001b[0m \u001b[0minput\u001b[0m\u001b[0;34m(\u001b[0m\u001b[0;34m\"What would you like to do? Type 'explore' or 'examine'?\"\u001b[0m\u001b[0;34m)\u001b[0m\u001b[0;34m.\u001b[0m\u001b[0mstrip\u001b[0m\u001b[0;34m(\u001b[0m\u001b[0;34m)\u001b[0m\u001b[0;34m\u001b[0m\u001b[0;34m\u001b[0m\u001b[0m\n\u001b[0m\u001b[1;32m     33\u001b[0m         \u001b[0;32mif\u001b[0m \u001b[0mintended_action\u001b[0m \u001b[0;34m==\u001b[0m \u001b[0;34m\"explore\"\u001b[0m\u001b[0;34m:\u001b[0m\u001b[0;34m\u001b[0m\u001b[0;34m\u001b[0m\u001b[0m\n\u001b[1;32m     34\u001b[0m             \u001b[0mexplore_room\u001b[0m\u001b[0;34m(\u001b[0m\u001b[0mroom\u001b[0m\u001b[0;34m)\u001b[0m\u001b[0;34m\u001b[0m\u001b[0;34m\u001b[0m\u001b[0m\n",
      "\u001b[0;32m~/opt/anaconda3/lib/python3.8/site-packages/ipykernel/kernelbase.py\u001b[0m in \u001b[0;36mraw_input\u001b[0;34m(self, prompt)\u001b[0m\n\u001b[1;32m   1004\u001b[0m                 \u001b[0;34m\"raw_input was called, but this frontend does not support input requests.\"\u001b[0m\u001b[0;34m\u001b[0m\u001b[0;34m\u001b[0m\u001b[0m\n\u001b[1;32m   1005\u001b[0m             )\n\u001b[0;32m-> 1006\u001b[0;31m         return self._input_request(\n\u001b[0m\u001b[1;32m   1007\u001b[0m             \u001b[0mstr\u001b[0m\u001b[0;34m(\u001b[0m\u001b[0mprompt\u001b[0m\u001b[0;34m)\u001b[0m\u001b[0;34m,\u001b[0m\u001b[0;34m\u001b[0m\u001b[0;34m\u001b[0m\u001b[0m\n\u001b[1;32m   1008\u001b[0m             \u001b[0mself\u001b[0m\u001b[0;34m.\u001b[0m\u001b[0m_parent_ident\u001b[0m\u001b[0;34m[\u001b[0m\u001b[0;34m\"shell\"\u001b[0m\u001b[0;34m]\u001b[0m\u001b[0;34m,\u001b[0m\u001b[0;34m\u001b[0m\u001b[0;34m\u001b[0m\u001b[0m\n",
      "\u001b[0;32m~/opt/anaconda3/lib/python3.8/site-packages/ipykernel/kernelbase.py\u001b[0m in \u001b[0;36m_input_request\u001b[0;34m(self, prompt, ident, parent, password)\u001b[0m\n\u001b[1;32m   1049\u001b[0m             \u001b[0;32mexcept\u001b[0m \u001b[0mKeyboardInterrupt\u001b[0m\u001b[0;34m:\u001b[0m\u001b[0;34m\u001b[0m\u001b[0;34m\u001b[0m\u001b[0m\n\u001b[1;32m   1050\u001b[0m                 \u001b[0;31m# re-raise KeyboardInterrupt, to truncate traceback\u001b[0m\u001b[0;34m\u001b[0m\u001b[0;34m\u001b[0m\u001b[0;34m\u001b[0m\u001b[0m\n\u001b[0;32m-> 1051\u001b[0;31m                 \u001b[0;32mraise\u001b[0m \u001b[0mKeyboardInterrupt\u001b[0m\u001b[0;34m(\u001b[0m\u001b[0;34m\"Interrupted by user\"\u001b[0m\u001b[0;34m)\u001b[0m \u001b[0;32mfrom\u001b[0m \u001b[0;32mNone\u001b[0m\u001b[0;34m\u001b[0m\u001b[0;34m\u001b[0m\u001b[0m\n\u001b[0m\u001b[1;32m   1052\u001b[0m             \u001b[0;32mexcept\u001b[0m \u001b[0mException\u001b[0m\u001b[0;34m:\u001b[0m\u001b[0;34m\u001b[0m\u001b[0;34m\u001b[0m\u001b[0m\n\u001b[1;32m   1053\u001b[0m                 \u001b[0mself\u001b[0m\u001b[0;34m.\u001b[0m\u001b[0mlog\u001b[0m\u001b[0;34m.\u001b[0m\u001b[0mwarning\u001b[0m\u001b[0;34m(\u001b[0m\u001b[0;34m\"Invalid Message:\"\u001b[0m\u001b[0;34m,\u001b[0m \u001b[0mexc_info\u001b[0m\u001b[0;34m=\u001b[0m\u001b[0;32mTrue\u001b[0m\u001b[0;34m)\u001b[0m\u001b[0;34m\u001b[0m\u001b[0;34m\u001b[0m\u001b[0m\n",
      "\u001b[0;31mKeyboardInterrupt\u001b[0m: Interrupted by user"
     ]
    }
   ],
   "source": [
    "game_state = INIT_GAME_STATE.copy()\n",
    "\n",
    "start_game()"
   ]
  },
  {
   "cell_type": "code",
   "execution_count": null,
   "id": "38845e10-2027-40fd-8769-7ba843881864",
   "metadata": {},
   "outputs": [],
   "source": []
  }
 ],
 "metadata": {
  "kernelspec": {
   "display_name": "Python 3 (ipykernel)",
   "language": "python",
   "name": "python3"
  },
  "language_info": {
   "codemirror_mode": {
    "name": "ipython",
    "version": 3
   },
   "file_extension": ".py",
   "mimetype": "text/x-python",
   "name": "python",
   "nbconvert_exporter": "python",
   "pygments_lexer": "ipython3",
   "version": "3.8.8"
  }
 },
 "nbformat": 4,
 "nbformat_minor": 5
}
