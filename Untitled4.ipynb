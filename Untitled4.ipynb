{
 "cells": [
  {
   "cell_type": "code",
   "execution_count": null,
   "id": "e700f745-97ea-477e-b092-2c801019a97d",
   "metadata": {},
   "outputs": [],
   "source": [
    "adicionei a variavel do game over:\n",
    "gameover = {\n",
    "    \"name\": \"gameover\",\n",
    "    \"type\": \"room\",\n",
    "}\n",
    "importei duas bibliotecas:\n",
    "from sys import exit\n",
    "import time\n",
    "e estou com problemas nessa função, está ne dando um erro que eu não entendo o que significa\n",
    "\n",
    "\n",
    "\n",
    "\n",
    "\n",
    "\n",
    "7h41\n",
    "def statement_of_room(next_room):\n",
    "    if next_room[\"name\"] == \"Cabo Verde\":\n",
    "        print(\"After thirteen days of bad sea, rain and cold wind on the ship El Rei, you are able to step, for the first time in your life, a land that is not Portugal. You are in São Nicolau, Cape Verde and you’ve been given the task to find the a supplier that will provide you fresh provisions for the remaining trip. Don’t take to much time or you will be punished with cleaning the deck for a month again! \")\n",
    "    elif next_room[\"name\"] == \"storm\":\n",
    "        print(\"A big storm hit the fleet. The other ships have vanished in the enormous waves and your current location is impossible to determine due to the storm. The crew is starting to look desperate. Another thunder hits near the ship wen a voice is heard: ‘Who is fullish enough to enter my waters without my permission? Who ventures in seas that belong to darkness and monsters shall perish and disappear, for I the King of the Seas will have your bodies to feed my children and your souls will be chain to my trident for eternity!’\")\n",
    "#change\n",
    "        time(10)\n",
    "        print(\"Neptune: I demmand a sacrifice!\")\n",
    "        time(3)\n",
    "        print(\"You only have: a wedding ring, rosary, goat, rum\")\n",
    "        if (input[\"rum\", \"goat\"]) == \"brasil\":\n",
    "        else (input[\"wedding ring\", \"rosary\"]) == \"gameover\": <-----\n",
    "    else:\n",
    "        pass\n",
    "#change\n",
    "def gameover():\n",
    "    if next_room[\"name\"] == \"gameover\":\n",
    "        print(\"Your sacrife was not accepted, you and your crew are claimed by the sea.\")\n",
    "        time(5)\n",
    "        print(\"Game Over\")\n",
    "        time(3)\n",
    "        exit()"
   ]
  }
 ],
 "metadata": {
  "kernelspec": {
   "display_name": "Python 3 (ipykernel)",
   "language": "python",
   "name": "python3"
  },
  "language_info": {
   "codemirror_mode": {
    "name": "ipython",
    "version": 3
   },
   "file_extension": ".py",
   "mimetype": "text/x-python",
   "name": "python",
   "nbconvert_exporter": "python",
   "pygments_lexer": "ipython3",
   "version": "3.8.8"
  }
 },
 "nbformat": 4,
 "nbformat_minor": 5
}
