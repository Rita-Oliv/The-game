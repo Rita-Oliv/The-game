{
 "cells": [
  {
   "cell_type": "code",
   "execution_count": 9,
   "id": "b39b65b6-6e9e-4b07-b9a2-fd181ca13306",
   "metadata": {},
   "outputs": [
    {
     "name": "stdout",
     "output_type": "stream",
     "text": [
      "Congrats! It's not India but you made it to Brazil!\n"
     ]
    }
   ],
   "source": [
    "lisboa = {\n",
    "    \"name\": \"Lisboa\",\n",
    "    \"type\": \"room\",\n",
    "}\n",
    "\n",
    "destination = {\n",
    "    \"name\": \"Brasil\",\n",
    "    \"type\": \"room\",\n",
    "}\n",
    "\n",
    "game_state = {\n",
    "    \"current_room\": lisboa,\n",
    "    \"keys_collected\": [],\n",
    "    \"target_room\": destination\n",
    "}\n",
    "\n",
    "\n",
    "\n",
    "\n",
    "def play_room(room):\n",
    "    \"\"\"\n",
    "    Play a room. First check if the room being played is the target room.\n",
    "    If it is, the game will end with success. Otherwise, let player either \n",
    "    explore (list all items in this room) or examine an item found here.\n",
    "    \"\"\"\n",
    "    game_state[\"current_room\"] = room\n",
    "    if(game_state[\"current_room\"] == game_state[\"target_room\"]):\n",
    "        print(\"Congrats! It's not India but you made it to Brazil!\")\n",
    " #       myImage2 = Image.open(\"../The-game/chegada_ao_brasil.jpg\")\n",
    " #       myImage2.show()\n",
    "    else:\n",
    "        print(\"You are now in \" + room[\"name\"])\n",
    "        \n",
    "        intended_action = input(\"What would you like to do? Type 'explore' or 'examine'?\").strip()\n",
    "        if intended_action == \"explore\":\n",
    "            explore_room(room)\n",
    "            play_room(room)\n",
    "        elif intended_action == \"examine\":\n",
    "            examine_item(input(\"What would you like to examine?\").strip())\n",
    "        else:\n",
    "            print(\"Not sure what you mean. Type 'explore' or 'examine'.\")\n",
    "            play_room(room)\n",
    "        linebreak()\n",
    "        \n",
    "next_room = destination\n",
    "play_room(next_room)    \n"
   ]
  },
  {
   "cell_type": "code",
   "execution_count": null,
   "id": "8c35fd18-e029-4c90-868b-06dbe2d8c278",
   "metadata": {},
   "outputs": [],
   "source": []
  }
 ],
 "metadata": {
  "kernelspec": {
   "display_name": "Python 3 (ipykernel)",
   "language": "python",
   "name": "python3"
  },
  "language_info": {
   "codemirror_mode": {
    "name": "ipython",
    "version": 3
   },
   "file_extension": ".py",
   "mimetype": "text/x-python",
   "name": "python",
   "nbconvert_exporter": "python",
   "pygments_lexer": "ipython3",
   "version": "3.8.8"
  }
 },
 "nbformat": 4,
 "nbformat_minor": 5
}
