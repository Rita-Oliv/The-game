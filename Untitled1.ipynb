{
 "cells": [
  {
   "cell_type": "code",
   "execution_count": 1,
   "id": "cd615c3d-2b6b-4204-832d-86b2322e026e",
   "metadata": {},
   "outputs": [],
   "source": [
    "old_man = {\n",
    "    \"name\": \"old man\",\n",
    "    \"type\": \"character\",\n",
    "}\n",
    "\n",
    "gangway = {\n",
    "    \"name\": \"gangway to the ship\",\n",
    "    \"type\": \"passage\",\n",
    "}\n",
    "\n",
    "contract = {\n",
    "    \"name\": \"contract to embark in El Rei\",\n",
    "    \"type\": \"key\",\n",
    "    \"target\": gangway,\n",
    "}\n",
    "\n",
    "cask = {\n",
    "    \"name\": \"wine cask\",\n",
    "    \"type\": \"furniture\",\n",
    "}\n",
    "\n",
    "lisboa = {\n",
    "    \"name\": \"Lisboa\",\n",
    "    \"type\": \"place\",\n",
    "}\n",
    "\n",
    "destination = {\n",
    "    \"name\": \"Brasil\"\n",
    "}\n",
    "\n",
    "all_rooms = [lisboa, destination]\n",
    "\n",
    "all_doors = [gangway]\n",
    "\n",
    "# define which items/rooms are related\n",
    "\n",
    "object_relations = {\n",
    "    \"Lisboa\": [old_man, cask, gangway],\n",
    "    \"old man\": [contract],\n",
    "    \"contract\": [lisboa, destination],\n",
    "    \"Brasil\": [gangway]\n",
    "}\n",
    "\n",
    "# define game state. Do not directly change this dict. \n",
    "# Instead, when a new game starts, make a copy of this\n",
    "# dict and use the copy to store gameplay state. This \n",
    "# way you can replay the game multiple times.\n",
    "\n",
    "INIT_GAME_STATE = {\n",
    "    \"current_room\": lisboa,\n",
    "    \"keys_collected\": [],\n",
    "    \"target_room\": destination\n",
    "}"
   ]
  },
  {
   "cell_type": "code",
   "execution_count": 2,
   "id": "e21eea3c-1342-49ac-a014-df22aa6d17e6",
   "metadata": {},
   "outputs": [],
   "source": [
    "def linebreak():\n",
    "    \"\"\"\n",
    "    Print a line break\n",
    "    \"\"\"\n",
    "    print(\"\\n\\n\")\n",
    "\n",
    "def start_game():\n",
    "    \"\"\"\n",
    "    Start the game\n",
    "    \"\"\"\n",
    "    print(\"You wake up on top of what it looks like a pile of bags. You remember something about the night before, you were drinking with friends, they all called you crazy, but hugged you as they said their goodbyes. Why would they say goodbye to you? You look around and see small boats departing towards a big fleet… THUNDERS! You’re supposed to be in that fleet! You are supposed to go to India but now your late. Hurry up and get yourself on one of those boats!\")\n",
    "    play_room(game_state[\"current_room\"])\n",
    "\n",
    "def play_room(room):\n",
    "    \"\"\"\n",
    "    Play a room. First check if the room being played is the target room.\n",
    "    If it is, the game will end with success. Otherwise, let player either \n",
    "    explore (list all items in this room) or examine an item found here.\n",
    "    \"\"\"\n",
    "    game_state[\"current_room\"] = room\n",
    "    if(game_state[\"current_room\"] == game_state[\"target_room\"]):\n",
    "        print(\"Congrats! It's not India but you made it to Brazil!\")\n",
    "    else:\n",
    "        print(\"You are now in \" + room[\"name\"])\n",
    "        intended_action = input(\"What would you like to do? Type 'explore' or 'examine'?\").strip()\n",
    "        if intended_action == \"explore\":\n",
    "            explore_room(room)\n",
    "            play_room(room)\n",
    "        elif intended_action == \"examine\":\n",
    "            examine_item(input(\"What would you like to examine?\").strip())\n",
    "        else:\n",
    "            print(\"Not sure what you mean. Type 'explore' or 'examine'.\")\n",
    "            play_room(room)\n",
    "        linebreak()\n",
    "\n",
    "def explore_room(room):\n",
    "    \"\"\"\n",
    "    Explore a room. List all items belonging to this room.\n",
    "    \"\"\"\n",
    "    items = [i[\"name\"] for i in object_relations[room[\"name\"]]]\n",
    "    print(\"You explore the room. This is \" + room[\"name\"] + \". You find \" + \", \".join(items))\n",
    "\n",
    "def get_next_room_of_door(door, current_room):\n",
    "    \"\"\"\n",
    "    From object_relations, find the two rooms connected to the given door.\n",
    "    Return the room that is not the current_room.\n",
    "    \"\"\"\n",
    "    connected_rooms = object_relations[door[\"name\"]]\n",
    "    for room in connected_rooms:\n",
    "        if(not current_room == room):\n",
    "            return room\n",
    "\n",
    "def examine_item(item_name):\n",
    "    \"\"\"\n",
    "    Examine an item which can be a door or furniture.\n",
    "    First make sure the intended item belongs to the current room.\n",
    "    Then check if the item is a door. Tell player if key hasn't been \n",
    "    collected yet. Otherwise ask player if they want to go to the next\n",
    "    room. If the item is not a door, then check if it contains keys.\n",
    "    Collect the key if found and update the game state. At the end,\n",
    "    play either the current or the next room depending on the game state\n",
    "    to keep playing.\n",
    "    \"\"\"\n",
    "    current_room = game_state[\"current_room\"]\n",
    "    next_room = \"\"\n",
    "    output = None\n",
    "    \n",
    "    for item in object_relations[current_room[\"name\"]]:\n",
    "        if(item[\"name\"] == item_name):\n",
    "            output = \"You examine \" + item_name + \". \"\n",
    "            if(item[\"type\"] == \"passage\"):\n",
    "                have_key = False\n",
    "                for key in game_state[\"keys_collected\"]:\n",
    "                    if(key[\"target\"] == item):\n",
    "                        have_key = True\n",
    "                if(have_key):\n",
    "                    output += \"You unlock it with a key you have.\"\n",
    "                    next_room = get_next_room_of_door(item, current_room)\n",
    "                else:\n",
    "                    output += \"It is locked but you don't have the key.\"\n",
    "            else:\n",
    "                if(item[\"name\"] in object_relations and len(object_relations[item[\"name\"]])>0):\n",
    "                    item_found = object_relations[item[\"name\"]].pop()\n",
    "                    game_state[\"keys_collected\"].append(item_found)\n",
    "                    output += \"You find \" + item_found[\"name\"] + \".\"\n",
    "                else:\n",
    "                    output += \"There isn't anything interesting about it.\"\n",
    "            print(output)\n",
    "            break\n",
    "\n",
    "    if(output is None):\n",
    "        print(\"The item you requested is not found in the current room.\")\n",
    "    \n",
    "    if(next_room and input(\"Do you want to go to the next room? Enter 'yes' or 'no'\").strip() == 'yes'):\n",
    "        play_room(next_room)\n",
    "    else:\n",
    "        play_room(current_room)"
   ]
  },
  {
   "cell_type": "code",
   "execution_count": 3,
   "id": "a2b21aeb-9878-4295-8526-6ab76b0815e8",
   "metadata": {},
   "outputs": [
    {
     "name": "stdout",
     "output_type": "stream",
     "text": [
      "You wake up on top of what it looks like a pile of bags. You remember something about the night before, you were drinking with friends, they all called you crazy, but hugged you as they said their goodbyes. Why would they say goodbye to you? You look around and see small boats departing towards a big fleet… THUNDERS! You’re supposed to be in that fleet! You are supposed to go to India but now your late. Hurry up and get yourself on one of those boats!\n",
      "You are now in Lisboa\n"
     ]
    },
    {
     "name": "stdin",
     "output_type": "stream",
     "text": [
      "What would you like to do? Type 'explore' or 'examine'? explore\n"
     ]
    },
    {
     "name": "stdout",
     "output_type": "stream",
     "text": [
      "You explore the room. This is Lisboa. You find old man, wine cask, gangway to the ship\n",
      "You are now in Lisboa\n"
     ]
    },
    {
     "name": "stdin",
     "output_type": "stream",
     "text": [
      "What would you like to do? Type 'explore' or 'examine'? examine\n",
      "What would you like to examine? old man\n"
     ]
    },
    {
     "name": "stdout",
     "output_type": "stream",
     "text": [
      "You examine old man. You find contract to embark in El Rei.\n",
      "You are now in Lisboa\n"
     ]
    },
    {
     "name": "stdin",
     "output_type": "stream",
     "text": [
      "What would you like to do? Type 'explore' or 'examine'? examine\n",
      "What would you like to examine? wine cask\n"
     ]
    },
    {
     "name": "stdout",
     "output_type": "stream",
     "text": [
      "You examine wine cask. There isn't anything interesting about it.\n",
      "You are now in Lisboa\n"
     ]
    },
    {
     "name": "stdin",
     "output_type": "stream",
     "text": [
      "What would you like to do? Type 'explore' or 'examine'? examine\n",
      "What would you like to examine? gangway to the ship\n"
     ]
    },
    {
     "ename": "KeyError",
     "evalue": "'gangway to the ship'",
     "output_type": "error",
     "traceback": [
      "\u001b[0;31m---------------------------------------------------------------------------\u001b[0m",
      "\u001b[0;31mKeyError\u001b[0m                                  Traceback (most recent call last)",
      "\u001b[0;32m<ipython-input-3-2c0d15a1ff83>\u001b[0m in \u001b[0;36m<module>\u001b[0;34m\u001b[0m\n\u001b[1;32m      1\u001b[0m \u001b[0mgame_state\u001b[0m \u001b[0;34m=\u001b[0m \u001b[0mINIT_GAME_STATE\u001b[0m\u001b[0;34m.\u001b[0m\u001b[0mcopy\u001b[0m\u001b[0;34m(\u001b[0m\u001b[0;34m)\u001b[0m\u001b[0;34m\u001b[0m\u001b[0;34m\u001b[0m\u001b[0m\n\u001b[1;32m      2\u001b[0m \u001b[0;34m\u001b[0m\u001b[0m\n\u001b[0;32m----> 3\u001b[0;31m \u001b[0mstart_game\u001b[0m\u001b[0;34m(\u001b[0m\u001b[0;34m)\u001b[0m\u001b[0;34m\u001b[0m\u001b[0;34m\u001b[0m\u001b[0m\n\u001b[0m",
      "\u001b[0;32m<ipython-input-2-b10f100d94f8>\u001b[0m in \u001b[0;36mstart_game\u001b[0;34m()\u001b[0m\n\u001b[1;32m     10\u001b[0m     \"\"\"\n\u001b[1;32m     11\u001b[0m     \u001b[0mprint\u001b[0m\u001b[0;34m(\u001b[0m\u001b[0;34m\"You wake up on top of what it looks like a pile of bags. You remember something about the night before, you were drinking with friends, they all called you crazy, but hugged you as they said their goodbyes. Why would they say goodbye to you? You look around and see small boats departing towards a big fleet… THUNDERS! You’re supposed to be in that fleet! You are supposed to go to India but now your late. Hurry up and get yourself on one of those boats!\"\u001b[0m\u001b[0;34m)\u001b[0m\u001b[0;34m\u001b[0m\u001b[0;34m\u001b[0m\u001b[0m\n\u001b[0;32m---> 12\u001b[0;31m     \u001b[0mplay_room\u001b[0m\u001b[0;34m(\u001b[0m\u001b[0mgame_state\u001b[0m\u001b[0;34m[\u001b[0m\u001b[0;34m\"current_room\"\u001b[0m\u001b[0;34m]\u001b[0m\u001b[0;34m)\u001b[0m\u001b[0;34m\u001b[0m\u001b[0;34m\u001b[0m\u001b[0m\n\u001b[0m\u001b[1;32m     13\u001b[0m \u001b[0;34m\u001b[0m\u001b[0m\n\u001b[1;32m     14\u001b[0m \u001b[0;32mdef\u001b[0m \u001b[0mplay_room\u001b[0m\u001b[0;34m(\u001b[0m\u001b[0mroom\u001b[0m\u001b[0;34m)\u001b[0m\u001b[0;34m:\u001b[0m\u001b[0;34m\u001b[0m\u001b[0;34m\u001b[0m\u001b[0m\n",
      "\u001b[0;32m<ipython-input-2-b10f100d94f8>\u001b[0m in \u001b[0;36mplay_room\u001b[0;34m(room)\u001b[0m\n\u001b[1;32m     26\u001b[0m         \u001b[0;32mif\u001b[0m \u001b[0mintended_action\u001b[0m \u001b[0;34m==\u001b[0m \u001b[0;34m\"explore\"\u001b[0m\u001b[0;34m:\u001b[0m\u001b[0;34m\u001b[0m\u001b[0;34m\u001b[0m\u001b[0m\n\u001b[1;32m     27\u001b[0m             \u001b[0mexplore_room\u001b[0m\u001b[0;34m(\u001b[0m\u001b[0mroom\u001b[0m\u001b[0;34m)\u001b[0m\u001b[0;34m\u001b[0m\u001b[0;34m\u001b[0m\u001b[0m\n\u001b[0;32m---> 28\u001b[0;31m             \u001b[0mplay_room\u001b[0m\u001b[0;34m(\u001b[0m\u001b[0mroom\u001b[0m\u001b[0;34m)\u001b[0m\u001b[0;34m\u001b[0m\u001b[0;34m\u001b[0m\u001b[0m\n\u001b[0m\u001b[1;32m     29\u001b[0m         \u001b[0;32melif\u001b[0m \u001b[0mintended_action\u001b[0m \u001b[0;34m==\u001b[0m \u001b[0;34m\"examine\"\u001b[0m\u001b[0;34m:\u001b[0m\u001b[0;34m\u001b[0m\u001b[0;34m\u001b[0m\u001b[0m\n\u001b[1;32m     30\u001b[0m             \u001b[0mexamine_item\u001b[0m\u001b[0;34m(\u001b[0m\u001b[0minput\u001b[0m\u001b[0;34m(\u001b[0m\u001b[0;34m\"What would you like to examine?\"\u001b[0m\u001b[0;34m)\u001b[0m\u001b[0;34m.\u001b[0m\u001b[0mstrip\u001b[0m\u001b[0;34m(\u001b[0m\u001b[0;34m)\u001b[0m\u001b[0;34m)\u001b[0m\u001b[0;34m\u001b[0m\u001b[0;34m\u001b[0m\u001b[0m\n",
      "\u001b[0;32m<ipython-input-2-b10f100d94f8>\u001b[0m in \u001b[0;36mplay_room\u001b[0;34m(room)\u001b[0m\n\u001b[1;32m     28\u001b[0m             \u001b[0mplay_room\u001b[0m\u001b[0;34m(\u001b[0m\u001b[0mroom\u001b[0m\u001b[0;34m)\u001b[0m\u001b[0;34m\u001b[0m\u001b[0;34m\u001b[0m\u001b[0m\n\u001b[1;32m     29\u001b[0m         \u001b[0;32melif\u001b[0m \u001b[0mintended_action\u001b[0m \u001b[0;34m==\u001b[0m \u001b[0;34m\"examine\"\u001b[0m\u001b[0;34m:\u001b[0m\u001b[0;34m\u001b[0m\u001b[0;34m\u001b[0m\u001b[0m\n\u001b[0;32m---> 30\u001b[0;31m             \u001b[0mexamine_item\u001b[0m\u001b[0;34m(\u001b[0m\u001b[0minput\u001b[0m\u001b[0;34m(\u001b[0m\u001b[0;34m\"What would you like to examine?\"\u001b[0m\u001b[0;34m)\u001b[0m\u001b[0;34m.\u001b[0m\u001b[0mstrip\u001b[0m\u001b[0;34m(\u001b[0m\u001b[0;34m)\u001b[0m\u001b[0;34m)\u001b[0m\u001b[0;34m\u001b[0m\u001b[0;34m\u001b[0m\u001b[0m\n\u001b[0m\u001b[1;32m     31\u001b[0m         \u001b[0;32melse\u001b[0m\u001b[0;34m:\u001b[0m\u001b[0;34m\u001b[0m\u001b[0;34m\u001b[0m\u001b[0m\n\u001b[1;32m     32\u001b[0m             \u001b[0mprint\u001b[0m\u001b[0;34m(\u001b[0m\u001b[0;34m\"Not sure what you mean. Type 'explore' or 'examine'.\"\u001b[0m\u001b[0;34m)\u001b[0m\u001b[0;34m\u001b[0m\u001b[0;34m\u001b[0m\u001b[0m\n",
      "\u001b[0;32m<ipython-input-2-b10f100d94f8>\u001b[0m in \u001b[0;36mexamine_item\u001b[0;34m(item_name)\u001b[0m\n\u001b[1;32m     95\u001b[0m         \u001b[0mplay_room\u001b[0m\u001b[0;34m(\u001b[0m\u001b[0mnext_room\u001b[0m\u001b[0;34m)\u001b[0m\u001b[0;34m\u001b[0m\u001b[0;34m\u001b[0m\u001b[0m\n\u001b[1;32m     96\u001b[0m     \u001b[0;32melse\u001b[0m\u001b[0;34m:\u001b[0m\u001b[0;34m\u001b[0m\u001b[0;34m\u001b[0m\u001b[0m\n\u001b[0;32m---> 97\u001b[0;31m         \u001b[0mplay_room\u001b[0m\u001b[0;34m(\u001b[0m\u001b[0mcurrent_room\u001b[0m\u001b[0;34m)\u001b[0m\u001b[0;34m\u001b[0m\u001b[0;34m\u001b[0m\u001b[0m\n\u001b[0m",
      "\u001b[0;32m<ipython-input-2-b10f100d94f8>\u001b[0m in \u001b[0;36mplay_room\u001b[0;34m(room)\u001b[0m\n\u001b[1;32m     28\u001b[0m             \u001b[0mplay_room\u001b[0m\u001b[0;34m(\u001b[0m\u001b[0mroom\u001b[0m\u001b[0;34m)\u001b[0m\u001b[0;34m\u001b[0m\u001b[0;34m\u001b[0m\u001b[0m\n\u001b[1;32m     29\u001b[0m         \u001b[0;32melif\u001b[0m \u001b[0mintended_action\u001b[0m \u001b[0;34m==\u001b[0m \u001b[0;34m\"examine\"\u001b[0m\u001b[0;34m:\u001b[0m\u001b[0;34m\u001b[0m\u001b[0;34m\u001b[0m\u001b[0m\n\u001b[0;32m---> 30\u001b[0;31m             \u001b[0mexamine_item\u001b[0m\u001b[0;34m(\u001b[0m\u001b[0minput\u001b[0m\u001b[0;34m(\u001b[0m\u001b[0;34m\"What would you like to examine?\"\u001b[0m\u001b[0;34m)\u001b[0m\u001b[0;34m.\u001b[0m\u001b[0mstrip\u001b[0m\u001b[0;34m(\u001b[0m\u001b[0;34m)\u001b[0m\u001b[0;34m)\u001b[0m\u001b[0;34m\u001b[0m\u001b[0;34m\u001b[0m\u001b[0m\n\u001b[0m\u001b[1;32m     31\u001b[0m         \u001b[0;32melse\u001b[0m\u001b[0;34m:\u001b[0m\u001b[0;34m\u001b[0m\u001b[0;34m\u001b[0m\u001b[0m\n\u001b[1;32m     32\u001b[0m             \u001b[0mprint\u001b[0m\u001b[0;34m(\u001b[0m\u001b[0;34m\"Not sure what you mean. Type 'explore' or 'examine'.\"\u001b[0m\u001b[0;34m)\u001b[0m\u001b[0;34m\u001b[0m\u001b[0;34m\u001b[0m\u001b[0m\n",
      "\u001b[0;32m<ipython-input-2-b10f100d94f8>\u001b[0m in \u001b[0;36mexamine_item\u001b[0;34m(item_name)\u001b[0m\n\u001b[1;32m     95\u001b[0m         \u001b[0mplay_room\u001b[0m\u001b[0;34m(\u001b[0m\u001b[0mnext_room\u001b[0m\u001b[0;34m)\u001b[0m\u001b[0;34m\u001b[0m\u001b[0;34m\u001b[0m\u001b[0m\n\u001b[1;32m     96\u001b[0m     \u001b[0;32melse\u001b[0m\u001b[0;34m:\u001b[0m\u001b[0;34m\u001b[0m\u001b[0;34m\u001b[0m\u001b[0m\n\u001b[0;32m---> 97\u001b[0;31m         \u001b[0mplay_room\u001b[0m\u001b[0;34m(\u001b[0m\u001b[0mcurrent_room\u001b[0m\u001b[0;34m)\u001b[0m\u001b[0;34m\u001b[0m\u001b[0;34m\u001b[0m\u001b[0m\n\u001b[0m",
      "\u001b[0;32m<ipython-input-2-b10f100d94f8>\u001b[0m in \u001b[0;36mplay_room\u001b[0;34m(room)\u001b[0m\n\u001b[1;32m     28\u001b[0m             \u001b[0mplay_room\u001b[0m\u001b[0;34m(\u001b[0m\u001b[0mroom\u001b[0m\u001b[0;34m)\u001b[0m\u001b[0;34m\u001b[0m\u001b[0;34m\u001b[0m\u001b[0m\n\u001b[1;32m     29\u001b[0m         \u001b[0;32melif\u001b[0m \u001b[0mintended_action\u001b[0m \u001b[0;34m==\u001b[0m \u001b[0;34m\"examine\"\u001b[0m\u001b[0;34m:\u001b[0m\u001b[0;34m\u001b[0m\u001b[0;34m\u001b[0m\u001b[0m\n\u001b[0;32m---> 30\u001b[0;31m             \u001b[0mexamine_item\u001b[0m\u001b[0;34m(\u001b[0m\u001b[0minput\u001b[0m\u001b[0;34m(\u001b[0m\u001b[0;34m\"What would you like to examine?\"\u001b[0m\u001b[0;34m)\u001b[0m\u001b[0;34m.\u001b[0m\u001b[0mstrip\u001b[0m\u001b[0;34m(\u001b[0m\u001b[0;34m)\u001b[0m\u001b[0;34m)\u001b[0m\u001b[0;34m\u001b[0m\u001b[0;34m\u001b[0m\u001b[0m\n\u001b[0m\u001b[1;32m     31\u001b[0m         \u001b[0;32melse\u001b[0m\u001b[0;34m:\u001b[0m\u001b[0;34m\u001b[0m\u001b[0;34m\u001b[0m\u001b[0m\n\u001b[1;32m     32\u001b[0m             \u001b[0mprint\u001b[0m\u001b[0;34m(\u001b[0m\u001b[0;34m\"Not sure what you mean. Type 'explore' or 'examine'.\"\u001b[0m\u001b[0;34m)\u001b[0m\u001b[0;34m\u001b[0m\u001b[0;34m\u001b[0m\u001b[0m\n",
      "\u001b[0;32m<ipython-input-2-b10f100d94f8>\u001b[0m in \u001b[0;36mexamine_item\u001b[0;34m(item_name)\u001b[0m\n\u001b[1;32m     76\u001b[0m                 \u001b[0;32mif\u001b[0m\u001b[0;34m(\u001b[0m\u001b[0mhave_key\u001b[0m\u001b[0;34m)\u001b[0m\u001b[0;34m:\u001b[0m\u001b[0;34m\u001b[0m\u001b[0;34m\u001b[0m\u001b[0m\n\u001b[1;32m     77\u001b[0m                     \u001b[0moutput\u001b[0m \u001b[0;34m+=\u001b[0m \u001b[0;34m\"You unlock it with a key you have.\"\u001b[0m\u001b[0;34m\u001b[0m\u001b[0;34m\u001b[0m\u001b[0m\n\u001b[0;32m---> 78\u001b[0;31m                     \u001b[0mnext_room\u001b[0m \u001b[0;34m=\u001b[0m \u001b[0mget_next_room_of_door\u001b[0m\u001b[0;34m(\u001b[0m\u001b[0mitem\u001b[0m\u001b[0;34m,\u001b[0m \u001b[0mcurrent_room\u001b[0m\u001b[0;34m)\u001b[0m\u001b[0;34m\u001b[0m\u001b[0;34m\u001b[0m\u001b[0m\n\u001b[0m\u001b[1;32m     79\u001b[0m                 \u001b[0;32melse\u001b[0m\u001b[0;34m:\u001b[0m\u001b[0;34m\u001b[0m\u001b[0;34m\u001b[0m\u001b[0m\n\u001b[1;32m     80\u001b[0m                     \u001b[0moutput\u001b[0m \u001b[0;34m+=\u001b[0m \u001b[0;34m\"It is locked but you don't have the key.\"\u001b[0m\u001b[0;34m\u001b[0m\u001b[0;34m\u001b[0m\u001b[0m\n",
      "\u001b[0;32m<ipython-input-2-b10f100d94f8>\u001b[0m in \u001b[0;36mget_next_room_of_door\u001b[0;34m(door, current_room)\u001b[0m\n\u001b[1;32m     46\u001b[0m     \u001b[0mReturn\u001b[0m \u001b[0mthe\u001b[0m \u001b[0mroom\u001b[0m \u001b[0mthat\u001b[0m \u001b[0;32mis\u001b[0m \u001b[0;32mnot\u001b[0m \u001b[0mthe\u001b[0m \u001b[0mcurrent_room\u001b[0m\u001b[0;34m.\u001b[0m\u001b[0;34m\u001b[0m\u001b[0;34m\u001b[0m\u001b[0m\n\u001b[1;32m     47\u001b[0m     \"\"\"\n\u001b[0;32m---> 48\u001b[0;31m     \u001b[0mconnected_rooms\u001b[0m \u001b[0;34m=\u001b[0m \u001b[0mobject_relations\u001b[0m\u001b[0;34m[\u001b[0m\u001b[0mdoor\u001b[0m\u001b[0;34m[\u001b[0m\u001b[0;34m\"name\"\u001b[0m\u001b[0;34m]\u001b[0m\u001b[0;34m]\u001b[0m\u001b[0;34m\u001b[0m\u001b[0;34m\u001b[0m\u001b[0m\n\u001b[0m\u001b[1;32m     49\u001b[0m     \u001b[0;32mfor\u001b[0m \u001b[0mroom\u001b[0m \u001b[0;32min\u001b[0m \u001b[0mconnected_rooms\u001b[0m\u001b[0;34m:\u001b[0m\u001b[0;34m\u001b[0m\u001b[0;34m\u001b[0m\u001b[0m\n\u001b[1;32m     50\u001b[0m         \u001b[0;32mif\u001b[0m\u001b[0;34m(\u001b[0m\u001b[0;32mnot\u001b[0m \u001b[0mcurrent_room\u001b[0m \u001b[0;34m==\u001b[0m \u001b[0mroom\u001b[0m\u001b[0;34m)\u001b[0m\u001b[0;34m:\u001b[0m\u001b[0;34m\u001b[0m\u001b[0;34m\u001b[0m\u001b[0m\n",
      "\u001b[0;31mKeyError\u001b[0m: 'gangway to the ship'"
     ]
    }
   ],
   "source": [
    "game_state = INIT_GAME_STATE.copy()\n",
    "\n",
    "start_game()"
   ]
  },
  {
   "cell_type": "code",
   "execution_count": null,
   "id": "38845e10-2027-40fd-8769-7ba843881864",
   "metadata": {},
   "outputs": [],
   "source": []
  }
 ],
 "metadata": {
  "kernelspec": {
   "display_name": "Python 3",
   "language": "python",
   "name": "python3"
  },
  "language_info": {
   "codemirror_mode": {
    "name": "ipython",
    "version": 3
   },
   "file_extension": ".py",
   "mimetype": "text/x-python",
   "name": "python",
   "nbconvert_exporter": "python",
   "pygments_lexer": "ipython3",
   "version": "3.8.8"
  }
 },
 "nbformat": 4,
 "nbformat_minor": 5
}
