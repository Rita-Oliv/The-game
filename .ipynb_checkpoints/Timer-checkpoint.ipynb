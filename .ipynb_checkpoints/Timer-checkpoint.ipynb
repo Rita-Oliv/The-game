{
 "cells": [
  {
   "cell_type": "code",
   "execution_count": 4,
   "id": "a5b32b50-fc52-4ff8-b651-3d74449f8508",
   "metadata": {},
   "outputs": [
    {
     "name": "stdout",
     "output_type": "stream",
     "text": [
      "Game over\n",
      "Game over\n"
     ]
    }
   ],
   "source": [
    "from threading import Timer\n",
    "\n",
    "def timeout():\n",
    "    print(\"Game over\")\n",
    "\n",
    "# duration is in seconds\n",
    "t = Timer( 5, timeout)\n",
    "t.start()\n",
    "\n",
    "# wait for time completion\n",
    "t.join()"
   ]
  },
  {
   "cell_type": "code",
   "execution_count": null,
   "id": "d47d4b29-e583-459f-92a4-7ebd88c2d732",
   "metadata": {},
   "outputs": [],
   "source": []
  }
 ],
 "metadata": {
  "kernelspec": {
   "display_name": "Python 3",
   "language": "python",
   "name": "python3"
  },
  "language_info": {
   "codemirror_mode": {
    "name": "ipython",
    "version": 3
   },
   "file_extension": ".py",
   "mimetype": "text/x-python",
   "name": "python",
   "nbconvert_exporter": "python",
   "pygments_lexer": "ipython3",
   "version": "3.8.8"
  }
 },
 "nbformat": 4,
 "nbformat_minor": 5
}
